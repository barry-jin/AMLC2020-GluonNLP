{
 "cells": [
  {
   "cell_type": "markdown",
   "metadata": {},
   "source": [
    "# Finetune Backbone Models for Text Prediction"
   ]
  },
  {
   "cell_type": "markdown",
   "metadata": {},
   "source": [
    "In this section, you will learn how to build a pipeline that finetunes a pretrained NLP backbone for text prediction.\n",
    "\n",
    "- [Part-1](./text_prediction_part1.ipynb):\n",
    "    - Download the GLUE Benchmarking Datasets via `nlp_data`\n",
    "    - Load pretrained NLP backbones.\n",
    "- [Part-2](./text_prediction_part2.ipynb):\n",
    "    - Understand basic usage of tokenizer and vocabulary.\n",
    "    - Try to load more pretrained backbones.\n",
    "- [Part-3](./text_prediction_part3.ipynb):\n",
    "    - A simple example that finetunes [MobileBERT](https://arxiv.org/pdf/2004.02984.pdf) for sentiment analysis.\n",
    "- [Part-4](./text_prediction_part4.ipynb):\n",
    "    - Wrap up the codes into a module and try out on more datasets."
   ]
  },
  {
   "cell_type": "markdown",
   "metadata": {},
   "source": [
    "## Ask Questions\n",
    "\n",
    "You can ask questions by creating issues in https://github.com/dmlc/gluon-nlp/. We are happy to help 😃."
   ]
  }
 ],
 "metadata": {
  "kernelspec": {
   "display_name": "Python 3",
   "language": "python",
   "name": "python3"
  },
  "language_info": {
   "codemirror_mode": {
    "name": "ipython",
    "version": 3
   },
   "file_extension": ".py",
   "mimetype": "text/x-python",
   "name": "python",
   "nbconvert_exporter": "python",
   "pygments_lexer": "ipython3",
   "version": "3.6.9"
  }
 },
 "nbformat": 4,
 "nbformat_minor": 4
}
