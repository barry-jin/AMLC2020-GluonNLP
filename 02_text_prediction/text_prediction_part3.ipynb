{
 "cells": [
  {
   "cell_type": "markdown",
   "metadata": {},
   "source": [
    "# Part3: MobileBERT for Text Prediction"
   ]
  },
  {
   "cell_type": "markdown",
   "metadata": {},
   "source": [
    "Now you have learned 1) the basics about Gluon, 2) how to use the backbone models in GluonNLP, 3) how to use the tokenizer and vocabulary in GluonNLP. In this part, we are going to build a model that finetunes [ALBERT](https://arxiv.org/pdf/1909.11942.pdf) for text prediction problems."
   ]
  },
  {
   "cell_type": "code",
   "execution_count": 1,
   "metadata": {},
   "outputs": [],
   "source": [
    "import gluonnlp\n",
    "import numpy as np\n",
    "import mxnet as mx\n",
    "import pandas as pd\n",
    "import matplotlib.pyplot as plt\n",
    "from tqdm.auto import tqdm\n",
    "from mxnet.gluon import nn\n",
    "from gluonnlp.models import get_backbone\n",
    "from gluonnlp.utils.parameter import clip_grad_global_norm\n",
    "from gluonnlp.utils.preprocessing import get_trimmed_lengths\n",
    "from gluonnlp.utils.misc import get_mxnet_visible_ctx, grouper, repeat\n",
    "from mxnet.gluon.data import batchify as bf\n",
    "from mxnet.gluon.data import DataLoader\n",
    "from mxnet.lr_scheduler import PolyScheduler\n",
    "from gluonnlp.utils import set_seed\n",
    "mx.npx.set_np()\n",
    "set_seed(123)"
   ]
  },
  {
   "cell_type": "markdown",
   "metadata": {},
   "source": [
    "### Load Dataset"
   ]
  },
  {
   "cell_type": "code",
   "execution_count": 2,
   "metadata": {},
   "outputs": [
    {
     "name": "stdout",
     "output_type": "stream",
     "text": [
      "Downloading glue to \"glue\". Selected tasks = sst\n",
      "Processing sst...\n",
      "Found!\n",
      "Downloading glue to \"glue\". Selected tasks = sts\n",
      "Processing sts...\n",
      "Found!\n"
     ]
    }
   ],
   "source": [
    "!nlp_data prepare_glue --benchmark glue -t sst\n",
    "!nlp_data prepare_glue --benchmark glue -t sts"
   ]
  },
  {
   "cell_type": "code",
   "execution_count": 3,
   "metadata": {},
   "outputs": [],
   "source": [
    "sst_train_df = pd.read_parquet('glue/sst/train.parquet')\n",
    "# For simplicity, we just use 2000 samples for training for SST\n",
    "rng_state = np.random.RandomState(123)\n",
    "train_perm = rng_state.permutation(len(sst_train_df))\n",
    "# Just use 2000 samples for training\n",
    "sst_train_df = sst_train_df.iloc[train_perm[:2000]]\n",
    "sst_dev_df = pd.read_parquet('glue/sst/dev.parquet')"
   ]
  },
  {
   "cell_type": "code",
   "execution_count": 4,
   "metadata": {},
   "outputs": [],
   "source": [
    "# Load STS\n",
    "sts_train_df = pd.read_parquet('glue/sts/train.parquet')[['sentence1', 'sentence2', 'score']]\n",
    "sts_dev_df = pd.read_parquet('glue/sts/dev.parquet')[['sentence1', 'sentence2', 'score']]"
   ]
  },
  {
   "cell_type": "code",
   "execution_count": 5,
   "metadata": {},
   "outputs": [
    {
     "data": {
      "text/html": [
       "<div>\n",
       "<style scoped>\n",
       "    .dataframe tbody tr th:only-of-type {\n",
       "        vertical-align: middle;\n",
       "    }\n",
       "\n",
       "    .dataframe tbody tr th {\n",
       "        vertical-align: top;\n",
       "    }\n",
       "\n",
       "    .dataframe thead th {\n",
       "        text-align: right;\n",
       "    }\n",
       "</style>\n",
       "<table border=\"1\" class=\"dataframe\">\n",
       "  <thead>\n",
       "    <tr style=\"text-align: right;\">\n",
       "      <th></th>\n",
       "      <th>sentence</th>\n",
       "      <th>label</th>\n",
       "    </tr>\n",
       "  </thead>\n",
       "  <tbody>\n",
       "    <tr>\n",
       "      <th>2434</th>\n",
       "      <td>goes by quickly</td>\n",
       "      <td>1</td>\n",
       "    </tr>\n",
       "    <tr>\n",
       "      <th>27796</th>\n",
       "      <td>reading lines from a teleprompter</td>\n",
       "      <td>0</td>\n",
       "    </tr>\n",
       "    <tr>\n",
       "      <th>249</th>\n",
       "      <td>degraded , handheld blair witch video-cam foot...</td>\n",
       "      <td>0</td>\n",
       "    </tr>\n",
       "    <tr>\n",
       "      <th>12115</th>\n",
       "      <td>reminds us how realistically nuanced a robert ...</td>\n",
       "      <td>1</td>\n",
       "    </tr>\n",
       "    <tr>\n",
       "      <th>50834</th>\n",
       "      <td>indulges in the worst elements of all of them .</td>\n",
       "      <td>0</td>\n",
       "    </tr>\n",
       "    <tr>\n",
       "      <th>43622</th>\n",
       "      <td>are nowhere near as vivid as the 19th-century ...</td>\n",
       "      <td>0</td>\n",
       "    </tr>\n",
       "    <tr>\n",
       "      <th>3955</th>\n",
       "      <td>throughout a film that is both gripping and co...</td>\n",
       "      <td>1</td>\n",
       "    </tr>\n",
       "    <tr>\n",
       "      <th>51011</th>\n",
       "      <td>to see over and over again</td>\n",
       "      <td>1</td>\n",
       "    </tr>\n",
       "    <tr>\n",
       "      <th>31232</th>\n",
       "      <td>that fails to match the freshness of the actre...</td>\n",
       "      <td>0</td>\n",
       "    </tr>\n",
       "    <tr>\n",
       "      <th>32153</th>\n",
       "      <td>this is an undeniably intriguing film from an ...</td>\n",
       "      <td>1</td>\n",
       "    </tr>\n",
       "  </tbody>\n",
       "</table>\n",
       "</div>"
      ],
      "text/plain": [
       "                                                sentence  label\n",
       "2434                                    goes by quickly       1\n",
       "27796                 reading lines from a teleprompter       0\n",
       "249    degraded , handheld blair witch video-cam foot...      0\n",
       "12115  reminds us how realistically nuanced a robert ...      1\n",
       "50834   indulges in the worst elements of all of them .       0\n",
       "43622  are nowhere near as vivid as the 19th-century ...      0\n",
       "3955   throughout a film that is both gripping and co...      1\n",
       "51011                        to see over and over again       1\n",
       "31232  that fails to match the freshness of the actre...      0\n",
       "32153  this is an undeniably intriguing film from an ...      1"
      ]
     },
     "execution_count": 5,
     "metadata": {},
     "output_type": "execute_result"
    }
   ],
   "source": [
    "sst_train_df.head(10)"
   ]
  },
  {
   "cell_type": "code",
   "execution_count": 6,
   "metadata": {},
   "outputs": [
    {
     "data": {
      "text/html": [
       "<div>\n",
       "<style scoped>\n",
       "    .dataframe tbody tr th:only-of-type {\n",
       "        vertical-align: middle;\n",
       "    }\n",
       "\n",
       "    .dataframe tbody tr th {\n",
       "        vertical-align: top;\n",
       "    }\n",
       "\n",
       "    .dataframe thead th {\n",
       "        text-align: right;\n",
       "    }\n",
       "</style>\n",
       "<table border=\"1\" class=\"dataframe\">\n",
       "  <thead>\n",
       "    <tr style=\"text-align: right;\">\n",
       "      <th></th>\n",
       "      <th>sentence1</th>\n",
       "      <th>sentence2</th>\n",
       "      <th>score</th>\n",
       "    </tr>\n",
       "  </thead>\n",
       "  <tbody>\n",
       "    <tr>\n",
       "      <th>0</th>\n",
       "      <td>A plane is taking off.</td>\n",
       "      <td>An air plane is taking off.</td>\n",
       "      <td>5.00</td>\n",
       "    </tr>\n",
       "    <tr>\n",
       "      <th>1</th>\n",
       "      <td>A man is playing a large flute.</td>\n",
       "      <td>A man is playing a flute.</td>\n",
       "      <td>3.80</td>\n",
       "    </tr>\n",
       "    <tr>\n",
       "      <th>2</th>\n",
       "      <td>A man is spreading shreded cheese on a pizza.</td>\n",
       "      <td>A man is spreading shredded cheese on an uncoo...</td>\n",
       "      <td>3.80</td>\n",
       "    </tr>\n",
       "    <tr>\n",
       "      <th>3</th>\n",
       "      <td>Three men are playing chess.</td>\n",
       "      <td>Two men are playing chess.</td>\n",
       "      <td>2.60</td>\n",
       "    </tr>\n",
       "    <tr>\n",
       "      <th>4</th>\n",
       "      <td>A man is playing the cello.</td>\n",
       "      <td>A man seated is playing the cello.</td>\n",
       "      <td>4.25</td>\n",
       "    </tr>\n",
       "    <tr>\n",
       "      <th>5</th>\n",
       "      <td>Some men are fighting.</td>\n",
       "      <td>Two men are fighting.</td>\n",
       "      <td>4.25</td>\n",
       "    </tr>\n",
       "    <tr>\n",
       "      <th>6</th>\n",
       "      <td>A man is smoking.</td>\n",
       "      <td>A man is skating.</td>\n",
       "      <td>0.50</td>\n",
       "    </tr>\n",
       "    <tr>\n",
       "      <th>7</th>\n",
       "      <td>The man is playing the piano.</td>\n",
       "      <td>The man is playing the guitar.</td>\n",
       "      <td>1.60</td>\n",
       "    </tr>\n",
       "    <tr>\n",
       "      <th>8</th>\n",
       "      <td>A man is playing on a guitar and singing.</td>\n",
       "      <td>A woman is playing an acoustic guitar and sing...</td>\n",
       "      <td>2.20</td>\n",
       "    </tr>\n",
       "    <tr>\n",
       "      <th>9</th>\n",
       "      <td>A person is throwing a cat on to the ceiling.</td>\n",
       "      <td>A person throws a cat on the ceiling.</td>\n",
       "      <td>5.00</td>\n",
       "    </tr>\n",
       "  </tbody>\n",
       "</table>\n",
       "</div>"
      ],
      "text/plain": [
       "                                       sentence1  \\\n",
       "0                         A plane is taking off.   \n",
       "1                A man is playing a large flute.   \n",
       "2  A man is spreading shreded cheese on a pizza.   \n",
       "3                   Three men are playing chess.   \n",
       "4                    A man is playing the cello.   \n",
       "5                         Some men are fighting.   \n",
       "6                              A man is smoking.   \n",
       "7                  The man is playing the piano.   \n",
       "8      A man is playing on a guitar and singing.   \n",
       "9  A person is throwing a cat on to the ceiling.   \n",
       "\n",
       "                                           sentence2  score  \n",
       "0                        An air plane is taking off.   5.00  \n",
       "1                          A man is playing a flute.   3.80  \n",
       "2  A man is spreading shredded cheese on an uncoo...   3.80  \n",
       "3                         Two men are playing chess.   2.60  \n",
       "4                 A man seated is playing the cello.   4.25  \n",
       "5                              Two men are fighting.   4.25  \n",
       "6                                  A man is skating.   0.50  \n",
       "7                     The man is playing the guitar.   1.60  \n",
       "8  A woman is playing an acoustic guitar and sing...   2.20  \n",
       "9              A person throws a cat on the ceiling.   5.00  "
      ]
     },
     "execution_count": 6,
     "metadata": {},
     "output_type": "execute_result"
    }
   ],
   "source": [
    "sts_train_df.head(10)"
   ]
  },
  {
   "cell_type": "markdown",
   "metadata": {},
   "source": [
    "### Load MobileBERT"
   ]
  },
  {
   "cell_type": "code",
   "execution_count": 7,
   "metadata": {},
   "outputs": [
    {
     "name": "stdout",
     "output_type": "stream",
     "text": [
      "INITIALIZER:\n",
      "  bias: ['zeros']\n",
      "  embed: ['truncnorm', 0, 0.02]\n",
      "  weight: ['truncnorm', 0, 0.02]\n",
      "MODEL:\n",
      "  activation: relu\n",
      "  attention_dropout_prob: 0.1\n",
      "  bottleneck_strategy: qk_sharing\n",
      "  classifier_activation: False\n",
      "  compute_layout: auto\n",
      "  dtype: float32\n",
      "  embed_size: 128\n",
      "  hidden_dropout_prob: 0.0\n",
      "  hidden_size: 512\n",
      "  inner_size: 128\n",
      "  layer_norm_eps: 1e-12\n",
      "  layout: NT\n",
      "  max_length: 512\n",
      "  normalization: no_norm\n",
      "  num_heads: 4\n",
      "  num_layers: 24\n",
      "  num_stacked_ffn: 4\n",
      "  num_token_types: 2\n",
      "  pos_embed_type: learned\n",
      "  trigram_embed: True\n",
      "  units: 512\n",
      "  use_bottleneck: True\n",
      "  vocab_size: 30522\n",
      "VERSION: 1\n"
     ]
    }
   ],
   "source": [
    "model_cls, cfg, tokenizer, local_params_path, _ = get_backbone('google_uncased_mobilebert')\n",
    "backbone = model_cls.from_cfg(cfg)\n",
    "print(cfg)"
   ]
  },
  {
   "cell_type": "markdown",
   "metadata": {},
   "source": [
    "### Preprocess the Data\n",
    "\n",
    "First of all, let's preprocess the data. Similar to BERT, in MobileBERT, we warp the data as\n",
    "\n",
    "- <font color='red'>[CLS]</font> TOKENS <font color='red'>[SEP]</font>\n",
    "- <font color='red'>[CLS]</font> TOKENS1 <font color='red'>[SEP]</font> TOKENS2 <font color='red'>[SEP]</font>\n",
    "\n",
    "In addition, to handle a pair of sentences, we generate the segment IDs, which will be 0 for the first sentence and 1 for the second sentence."
   ]
  },
  {
   "cell_type": "code",
   "execution_count": 8,
   "metadata": {},
   "outputs": [],
   "source": [
    "def preprocess_data(df, feature_columns, label_column, tokenizer, max_length=128, use_label=True):\n",
    "    out = []\n",
    "    if isinstance(feature_columns, str):\n",
    "        feature_columns = [feature_columns]\n",
    "    cls_id = tokenizer.vocab.cls_id\n",
    "    sep_id = tokenizer.vocab.sep_id\n",
    "    for idx, row in tqdm(df.iterrows(), total=len(df)):\n",
    "        # Token IDs =      [CLS]    token_ids1       [SEP]      token_ids2         [SEP]\n",
    "        # Segment IDs =      0         0               0           1                 1\n",
    "        encoded_text_l = [tokenizer.encode(row[col_name], int) for col_name in feature_columns]\n",
    "        trimmed_lengths = get_trimmed_lengths([len(ele) for ele in encoded_text_l],\n",
    "                                              max_length=max_length - len(feature_columns) - 1,\n",
    "                                              do_merge=True)\n",
    "        token_ids = [cls_id] + sum([ele[:length] + [sep_id]\n",
    "                          for length, ele in zip(trimmed_lengths, encoded_text_l)], [])\n",
    "        token_types = [0] + sum([[i % 2] * (length + 1) for i, length in enumerate(trimmed_lengths)], [])\n",
    "        valid_length = len(token_ids)\n",
    "        feature = (token_ids, token_types, valid_length)\n",
    "        if use_label:\n",
    "            label = row[label_column]\n",
    "            out.append((feature, label))\n",
    "        else:\n",
    "            out.append(feature)\n",
    "    return out"
   ]
  },
  {
   "cell_type": "code",
   "execution_count": 9,
   "metadata": {},
   "outputs": [
    {
     "data": {
      "application/vnd.jupyter.widget-view+json": {
       "model_id": "71681516f57b4fdc9f84c86a4fe8ba85",
       "version_major": 2,
       "version_minor": 0
      },
      "text/plain": [
       "HBox(children=(FloatProgress(value=0.0, max=2000.0), HTML(value='')))"
      ]
     },
     "metadata": {},
     "output_type": "display_data"
    },
    {
     "name": "stdout",
     "output_type": "stream",
     "text": [
      "\n"
     ]
    },
    {
     "data": {
      "application/vnd.jupyter.widget-view+json": {
       "model_id": "5cf539e9190f4f1da187ca222a4e673c",
       "version_major": 2,
       "version_minor": 0
      },
      "text/plain": [
       "HBox(children=(FloatProgress(value=0.0, max=872.0), HTML(value='')))"
      ]
     },
     "metadata": {},
     "output_type": "display_data"
    },
    {
     "name": "stdout",
     "output_type": "stream",
     "text": [
      "\n",
      "                                 sentence  label\n",
      "2434                     goes by quickly       1\n",
      "27796  reading lines from a teleprompter       0\n",
      "[(([101, 3632, 2011, 2855, 102], [0, 0, 0, 0, 0], 5), 1), (([101, 3752, 3210, 2013, 1037, 10093, 13699, 21716, 13876, 2121, 102], [0, 0, 0, 0, 0, 0, 0, 0, 0, 0, 0], 11), 0)]\n"
     ]
    }
   ],
   "source": [
    "processed_sst_train = preprocess_data(sst_train_df, 'sentence', 'label', tokenizer, use_label=True)\n",
    "processed_sst_dev = preprocess_data(sst_dev_df, 'sentence', 'label', tokenizer, use_label=False)\n",
    "print(sst_train_df.iloc[:2])\n",
    "print(processed_sst_train[:2])"
   ]
  },
  {
   "cell_type": "code",
   "execution_count": 10,
   "metadata": {},
   "outputs": [
    {
     "data": {
      "application/vnd.jupyter.widget-view+json": {
       "model_id": "2cc9b329be494e93bbe7827a23bbe6f4",
       "version_major": 2,
       "version_minor": 0
      },
      "text/plain": [
       "HBox(children=(FloatProgress(value=0.0, max=5749.0), HTML(value='')))"
      ]
     },
     "metadata": {},
     "output_type": "display_data"
    },
    {
     "name": "stdout",
     "output_type": "stream",
     "text": [
      "\n"
     ]
    },
    {
     "data": {
      "application/vnd.jupyter.widget-view+json": {
       "model_id": "cb28c24f0c944688b2854e45cbc4acdf",
       "version_major": 2,
       "version_minor": 0
      },
      "text/plain": [
       "HBox(children=(FloatProgress(value=0.0, max=1500.0), HTML(value='')))"
      ]
     },
     "metadata": {},
     "output_type": "display_data"
    },
    {
     "name": "stdout",
     "output_type": "stream",
     "text": [
      "\n",
      "                         sentence1                    sentence2  score\n",
      "0           A plane is taking off.  An air plane is taking off.    5.0\n",
      "1  A man is playing a large flute.    A man is playing a flute.    3.8\n",
      "[(([101, 1037, 4946, 2003, 2635, 2125, 1012, 102, 2019, 2250, 4946, 2003, 2635, 2125, 1012, 102], [0, 0, 0, 0, 0, 0, 0, 0, 1, 1, 1, 1, 1, 1, 1, 1], 16), 5.0), (([101, 1037, 2158, 2003, 2652, 1037, 2312, 8928, 1012, 102, 1037, 2158, 2003, 2652, 1037, 8928, 1012, 102], [0, 0, 0, 0, 0, 0, 0, 0, 0, 0, 1, 1, 1, 1, 1, 1, 1, 1], 18), 3.8)]\n"
     ]
    }
   ],
   "source": [
    "processed_sts_train = preprocess_data(sts_train_df, ['sentence1', 'sentence2'], 'score', tokenizer, use_label=True)\n",
    "processed_sts_dev = preprocess_data(sts_dev_df, ['sentence1', 'sentence2'], 'score', tokenizer, use_label=False)\n",
    "print(sts_train_df.iloc[:2])\n",
    "print(processed_sts_train[:2])"
   ]
  },
  {
   "cell_type": "markdown",
   "metadata": {},
   "source": [
    "After processing,\n",
    "- Train Sample: `((token_ids, token_types, valid_length), label)`\n",
    "- Valid Sample: `(token_ids, token_types, valid_length)`"
   ]
  },
  {
   "cell_type": "markdown",
   "metadata": {},
   "source": [
    "### Handle Variable Length Sequence"
   ]
  },
  {
   "cell_type": "markdown",
   "metadata": {},
   "source": [
    "When sample minibatches for text classification/regression, each text may not have the same length. You can use the built-in batchify functions in Gluon to help convert the data into batches.\n",
    "\n",
    "Recall that we have,\n",
    "- Train Sample: `((token_ids, token_types, valid_length), label)`\n",
    "- Valid Sample: `(token_ids, token_types, valid_length)`\n",
    "\n",
    "The corresponding batchify can be constructed similar to the python typing notation\n",
    "- Train: `Group[Group[Pad, Pad, Stack], Stack]`\n",
    "- Train: `Group[Pad, Pad, Stack]`"
   ]
  },
  {
   "cell_type": "code",
   "execution_count": 11,
   "metadata": {},
   "outputs": [],
   "source": [
    "train_batchify = bf.Group(bf.Group(bf.Pad(), bf.Pad(), bf.Stack()),\n",
    "                          bf.Stack())\n",
    "dev_batchify = bf.Group(bf.Pad(), bf.Pad(), bf.Stack())"
   ]
  },
  {
   "cell_type": "markdown",
   "metadata": {},
   "source": [
    "Let's see how the batchify works. We try to merge two samples into a batch:"
   ]
  },
  {
   "cell_type": "code",
   "execution_count": 12,
   "metadata": {},
   "outputs": [
    {
     "data": {
      "text/plain": [
       "((array([[  101,  3632,  2011,  2855,   102,     0,     0,     0,     0,\n",
       "              0,     0],\n",
       "         [  101,  3752,  3210,  2013,  1037, 10093, 13699, 21716, 13876,\n",
       "           2121,   102]], dtype=int64),\n",
       "  array([[0, 0, 0, 0, 0, 0, 0, 0, 0, 0, 0],\n",
       "         [0, 0, 0, 0, 0, 0, 0, 0, 0, 0, 0]], dtype=int64),\n",
       "  array([ 5, 11], dtype=int64)),\n",
       " array([1, 0], dtype=int64))"
      ]
     },
     "execution_count": 12,
     "metadata": {},
     "output_type": "execute_result"
    }
   ],
   "source": [
    "train_batchify([processed_sst_train[0], processed_sst_train[1]])"
   ]
  },
  {
   "cell_type": "code",
   "execution_count": 13,
   "metadata": {},
   "outputs": [
    {
     "data": {
      "text/plain": [
       "(array([[  101,  2009,  1005,  1055,  1037, 11951,  1998,  2411, 12473,\n",
       "          4990,  1012,   102],\n",
       "        [  101,  4895, 10258,  2378,  8450,  2135, 21657,  1998,  7143,\n",
       "           102,     0,     0]], dtype=int64),\n",
       " array([[0, 0, 0, 0, 0, 0, 0, 0, 0, 0, 0, 0],\n",
       "        [0, 0, 0, 0, 0, 0, 0, 0, 0, 0, 0, 0]], dtype=int64),\n",
       " array([12, 10], dtype=int64))"
      ]
     },
     "execution_count": 13,
     "metadata": {},
     "output_type": "execute_result"
    }
   ],
   "source": [
    "dev_batchify([processed_sst_dev[0], processed_sst_dev[1]])"
   ]
  },
  {
   "cell_type": "markdown",
   "metadata": {},
   "source": [
    "### Construct the Network"
   ]
  },
  {
   "cell_type": "markdown",
   "metadata": {},
   "source": [
    "Next, let's construct a very simple network that uses the backbone to encode the sentence and adds another fully-connected layer to map the features into scores."
   ]
  },
  {
   "cell_type": "code",
   "execution_count": 14,
   "metadata": {},
   "outputs": [],
   "source": [
    "class TextPredictionNet(nn.HybridBlock):\n",
    "    def __init__(self, backbone, in_units, out_units):\n",
    "        \"\"\"Construct the TextPrediction Network\n",
    "\n",
    "        Parameters\n",
    "        ----------\n",
    "        backbone\n",
    "            The backbone model\n",
    "        in_units\n",
    "            The units of the features extracted by the backbone model\n",
    "        out_units\n",
    "            The number of output units\n",
    "        \"\"\"\n",
    "        super().__init__()\n",
    "        self.backbone = backbone\n",
    "        self.out_proj = nn.Dense(in_units=in_units,\n",
    "                                 units=out_units,\n",
    "                                 flatten=False)\n",
    "\n",
    "    def hybrid_forward(self, F, data, token_types, valid_length):\n",
    "        \"\"\"\n",
    "\n",
    "        Parameters\n",
    "        ----------\n",
    "        F\n",
    "        data\n",
    "            The input data.\n",
    "            The shape is (batch_size, seq_length)\n",
    "        token_types\n",
    "            The type of each token.\n",
    "        valid_length\n",
    "            The valid length of each sample.\n",
    "            Shape is (batch_size,)\n",
    "\n",
    "        Returns\n",
    "        -------\n",
    "        out\n",
    "            Shape is (batch_size, units)\n",
    "        \"\"\"\n",
    "        _, pooled_out = self.backbone(data, token_types, valid_length)\n",
    "        out = self.out_proj(pooled_out)\n",
    "        return out\n",
    "\n",
    "    def initialize_with_pretrained_backbone(self, backbone_params_path, ctx=None):\n",
    "        \"\"\"Initialize the network with pretrained backbone\n",
    "\n",
    "        Parameters\n",
    "        ----------\n",
    "        backbone_params_path\n",
    "        ctx\n",
    "\n",
    "        Returns\n",
    "        -------\n",
    "\n",
    "        \"\"\"\n",
    "        self.backbone.load_parameters(backbone_params_path, ctx=ctx)\n",
    "        self.out_proj.initialize(ctx=ctx)"
   ]
  },
  {
   "cell_type": "code",
   "execution_count": 15,
   "metadata": {},
   "outputs": [],
   "source": [
    "ctx_l = get_mxnet_visible_ctx()\n",
    "net_sst = TextPredictionNet(backbone, backbone.units, 2)\n",
    "net_sst.hybridize()\n",
    "net_sst.initialize_with_pretrained_backbone(local_params_path, ctx_l)"
   ]
  },
  {
   "cell_type": "markdown",
   "metadata": {},
   "source": [
    "### Train and Evaluate"
   ]
  },
  {
   "cell_type": "markdown",
   "metadata": {},
   "source": [
    "Next, we can write the training loop. Here, we will use the [ADAMW optimizer](https://arxiv.org/pdf/1711.05101.pdf), gradient clipping and [Slanted Triangular Learning Rate](https://arxiv.org/pdf/1801.06146.pdf)."
   ]
  },
  {
   "cell_type": "code",
   "execution_count": 16,
   "metadata": {},
   "outputs": [
    {
     "data": {
      "text/plain": [
       "Text(0.5, 1.0, 'Slanted Triangular Learning Rate')"
      ]
     },
     "execution_count": 16,
     "metadata": {},
     "output_type": "execute_result"
    },
    {
     "data": {
      "image/png": "[encoded data removed]",
      "text/plain": [
       "<Figure size 432x288 with 1 Axes>"
      ]
     },
     "metadata": {
      "needs_background": "light"
     },
     "output_type": "display_data"
    }
   ],
   "source": [
    "total_iterations = 1000\n",
    "warmup = 100\n",
    "x = np.arange(total_iterations)\n",
    "max_lr = 1E-4\n",
    "y = (x < warmup) * max_lr * x / warmup + (x >= warmup) * (total_iterations - x) * max_lr / (total_iterations - warmup)\n",
    "plt.plot(x, y)\n",
    "plt.xlabel(\"Iterations\")\n",
    "plt.ylabel(\"Learning Rate\")\n",
    "plt.title('Slanted Triangular Learning Rate')\n"
   ]
  },
  {
   "cell_type": "code",
   "execution_count": 17,
   "metadata": {},
   "outputs": [],
   "source": [
    "def train(batch_size, dataset, batchify_function, net, ctx_l,\n",
    "          num_epochs, lr=1E-4, wd=0.01, max_grad_norm=1.0, warmup_ratio=0.1,\n",
    "          loss_function='nll'):\n",
    "    assert batch_size % len(ctx_l) == 0\n",
    "    per_device_batch_size = batch_size // len(ctx_l)\n",
    "    epoch_num_updates = len(dataset) // batch_size\n",
    "    max_update = epoch_num_updates * num_epochs\n",
    "    warmup_steps = int(np.ceil(max_update * warmup_ratio))\n",
    "    dataloader = DataLoader(dataset,\n",
    "                            batch_size=per_device_batch_size,\n",
    "                            batchify_fn=batchify_function,\n",
    "                            num_workers=4,\n",
    "                            shuffle=True)\n",
    "    dataloader = grouper(repeat(dataloader), len(ctx_l))\n",
    "    \n",
    "    # Construct the learning rate scheduler\n",
    "    lr_scheduler = PolyScheduler(max_update=max_update,\n",
    "                                 base_lr=lr,\n",
    "                                 warmup_begin_lr=0.0,\n",
    "                                 pwr=1,\n",
    "                                 final_lr=0.0,\n",
    "                                 warmup_steps=warmup_steps,\n",
    "                                 warmup_mode='linear')\n",
    "    optimizer_params = {'learning_rate': lr,\n",
    "                        'wd': wd,\n",
    "                        'lr_scheduler': lr_scheduler}\n",
    "    trainer = mx.gluon.Trainer(net.collect_params(),\n",
    "                               'adamw',\n",
    "                               optimizer_params)\n",
    "    params = [p for p in net.collect_params().values() if p.grad_req != 'null']\n",
    "    log_loss = 0\n",
    "    log_gnorm = 0\n",
    "    log_step = 0\n",
    "    log_interval = int(epoch_num_updates * 0.1)\n",
    "    for i in range(max_update):\n",
    "        sample_l = next(dataloader)\n",
    "        loss_l = []\n",
    "        for sample, ctx in zip(sample_l, ctx_l):\n",
    "            (token_ids, token_types, valid_length), label = sample\n",
    "            # Move to the corresponding context\n",
    "            token_ids = mx.np.array(token_ids, ctx=ctx)\n",
    "            token_types = mx.np.array(token_types, ctx=ctx)\n",
    "            valid_length = mx.np.array(valid_length, ctx=ctx)\n",
    "            label = mx.np.array(label, ctx=ctx)\n",
    "            with mx.autograd.record():\n",
    "                scores = net(token_ids, token_types, valid_length)\n",
    "                if loss_function == 'nll':\n",
    "                    logits = mx.npx.log_softmax(scores, axis=-1)\n",
    "                    loss = - mx.npx.pick(logits, label)\n",
    "                elif loss_function == 'mse':\n",
    "                    loss = mx.np.square(scores[:, 0] - label)\n",
    "                else:\n",
    "                    raise NotImplementedError\n",
    "                loss_l.append(loss.mean() / len(ctx_l))\n",
    "        for loss in loss_l:\n",
    "            loss.backward()\n",
    "        trainer.allreduce_grads()\n",
    "        # Begin Norm Clipping\n",
    "        total_norm, ratio, is_finite = clip_grad_global_norm(params, max_grad_norm)\n",
    "        trainer.update(1.0)\n",
    "        step_loss = sum([loss.asnumpy() for loss in loss_l])\n",
    "        log_loss += step_loss\n",
    "        log_gnorm += total_norm\n",
    "        log_step += 1\n",
    "        if log_step >= log_interval or i == max_update - 1:\n",
    "            print('[Iter {} / {}] avg {} = {}, avg gradient norm = {}'.format(i + 1, max_update, loss_function, log_loss / log_step, log_gnorm / log_step))\n",
    "            log_loss = 0\n",
    "            log_gnorm = 0\n",
    "            log_step = 0"
   ]
  },
  {
   "cell_type": "code",
   "execution_count": 18,
   "metadata": {},
   "outputs": [
    {
     "name": "stdout",
     "output_type": "stream",
     "text": [
      "[Iter 6 / 186] avg nll = 464526.3697916667, avg gradient norm = 202609704.0\n",
      "[Iter 12 / 186] avg nll = 673631.84375, avg gradient norm = 271465434.6666667\n",
      "[Iter 18 / 186] avg nll = 283179.0325520833, avg gradient norm = 158474974.66666666\n",
      "[Iter 24 / 186] avg nll = 90273.666015625, avg gradient norm = 69390781.0\n",
      "[Iter 30 / 186] avg nll = 5202.987650553386, avg gradient norm = 6852415.291666667\n",
      "[Iter 36 / 186] avg nll = 352.5524444580078, avg gradient norm = 646393.8177083334\n",
      "[Iter 42 / 186] avg nll = 25.143206199010212, avg gradient norm = 75783.81038411458\n",
      "[Iter 48 / 186] avg nll = 0.9117835064729055, avg gradient norm = 148.4285241762797\n",
      "[Iter 54 / 186] avg nll = 0.8017289042472839, avg gradient norm = 16.799694220225017\n",
      "[Iter 60 / 186] avg nll = 0.715988556543986, avg gradient norm = 15.583660761515299\n",
      "[Iter 66 / 186] avg nll = 0.7277040382226309, avg gradient norm = 18.81360610326131\n",
      "[Iter 72 / 186] avg nll = 0.636403371890386, avg gradient norm = 15.841080665588379\n",
      "[Iter 78 / 186] avg nll = 0.715371310710907, avg gradient norm = 219.40376393000284\n",
      "[Iter 84 / 186] avg nll = 0.47668171922365826, avg gradient norm = 12.000701983769735\n",
      "[Iter 90 / 186] avg nll = 0.4745541165272395, avg gradient norm = 12.144720951716105\n",
      "[Iter 96 / 186] avg nll = 0.37462398161490756, avg gradient norm = 9.801757415135702\n",
      "[Iter 102 / 186] avg nll = 0.4665646056334178, avg gradient norm = 9.087686459223429\n",
      "[Iter 108 / 186] avg nll = 0.401117982963721, avg gradient norm = 9.044080893198648\n",
      "[Iter 114 / 186] avg nll = 0.35817794253428775, avg gradient norm = 6.949978351593018\n",
      "[Iter 120 / 186] avg nll = 0.312560314933459, avg gradient norm = 6.479505022366841\n",
      "[Iter 126 / 186] avg nll = 0.2459396980702877, avg gradient norm = 6.174212614695231\n",
      "[Iter 132 / 186] avg nll = 0.173020638525486, avg gradient norm = 5.835603475570679\n",
      "[Iter 138 / 186] avg nll = 0.18016168288886547, avg gradient norm = 6.322053114573161\n",
      "[Iter 144 / 186] avg nll = 0.20271660387516022, avg gradient norm = 5.371056318283081\n",
      "[Iter 150 / 186] avg nll = 0.1879848800599575, avg gradient norm = 5.813435196876526\n",
      "[Iter 156 / 186] avg nll = 0.18410529009997845, avg gradient norm = 8.458973368008932\n",
      "[Iter 162 / 186] avg nll = 0.3322364538908005, avg gradient norm = 8.594975233078003\n",
      "[Iter 168 / 186] avg nll = 0.19316989928483963, avg gradient norm = 6.831129352251689\n",
      "[Iter 174 / 186] avg nll = 0.25217843676606816, avg gradient norm = 6.440486391385396\n",
      "[Iter 180 / 186] avg nll = 0.19320117433865866, avg gradient norm = 6.325243194897969\n",
      "[Iter 186 / 186] avg nll = 0.17055727293094, avg gradient norm = 4.936547636985779\n"
     ]
    }
   ],
   "source": [
    "train(32, processed_sst_train, train_batchify, net_sst, ctx_l, 3, lr=1E-4, loss_function='nll')"
   ]
  },
  {
   "cell_type": "code",
   "execution_count": 19,
   "metadata": {},
   "outputs": [],
   "source": [
    "def predict(batch_size, dataset, batchify_function, net, ctx_l, classification=True):\n",
    "    per_device_batch_size = (batch_size + len(ctx_l) - 1) // len(ctx_l)\n",
    "    dataloader = DataLoader(dataset,\n",
    "                            batch_size=per_device_batch_size,\n",
    "                            batchify_fn=batchify_function,\n",
    "                            shuffle=False)\n",
    "    pred = []\n",
    "    for sample_l in grouper(dataloader, len(ctx_l)):\n",
    "        for sample, ctx in zip(sample_l, ctx_l):\n",
    "            if sample is None:\n",
    "                continue\n",
    "            token_ids, token_types, valid_length = sample\n",
    "            token_ids = mx.np.array(token_ids, ctx=ctx)\n",
    "            token_types = mx.np.array(token_types, ctx=ctx)\n",
    "            valid_length = mx.np.array(valid_length, ctx=ctx)\n",
    "            scores = net(token_ids, token_types, valid_length)\n",
    "            if classification:\n",
    "                probs = mx.npx.softmax(scores, axis=-1)\n",
    "                pred.append(probs.asnumpy())\n",
    "            else:\n",
    "                pred.append(scores.asnumpy())\n",
    "    pred = np.concatenate(pred, axis=0)\n",
    "    return pred"
   ]
  },
  {
   "cell_type": "code",
   "execution_count": 20,
   "metadata": {},
   "outputs": [
    {
     "name": "stdout",
     "output_type": "stream",
     "text": [
      "Accuracy of the Dev Set= 0.8589449541284404\n",
      "Sentence= it 's a charming and often affecting journey .  Prediction= [6.5858556e-05 9.9993414e-01] Ground Truth= 1\n",
      "Sentence= unflinchingly bleak and desperate  Prediction= [9.9913019e-01 8.6982024e-04] Ground Truth= 0\n"
     ]
    }
   ],
   "source": [
    "pred = predict(64, processed_sst_dev, dev_batchify, net_sst, ctx_l)\n",
    "accuracy = (pred.argmax(axis=-1) == sst_dev_df['label']).sum() / len(sst_dev_df)\n",
    "print('Accuracy of the Dev Set=', accuracy)\n",
    "print('Sentence=', sst_dev_df['sentence'][0], 'Prediction=', pred[0], 'Ground Truth=', sst_dev_df['label'][0])\n",
    "print('Sentence=', sst_dev_df['sentence'][1], 'Prediction=', pred[1], 'Ground Truth=', sst_dev_df['label'][1])\n"
   ]
  },
  {
   "cell_type": "markdown",
   "metadata": {},
   "source": [
    "### Train for Sentence Similarity"
   ]
  },
  {
   "cell_type": "code",
   "execution_count": 21,
   "metadata": {},
   "outputs": [
    {
     "name": "stdout",
     "output_type": "stream",
     "text": [
      "[Iter 17 / 358] avg mse = 527478388366559.94, avg gradient norm = 1.808853337152669e+16\n",
      "[Iter 34 / 358] avg mse = 61906266468436.7, avg gradient norm = 2624602135697528.5\n",
      "[Iter 51 / 358] avg mse = 37700690.93477825, avg gradient norm = 6269371405.852984\n",
      "[Iter 68 / 358] avg mse = 3.04906904202304, avg gradient norm = 160.7111073662253\n",
      "[Iter 85 / 358] avg mse = 1.6890815805556612, avg gradient norm = 74.75011926538804\n",
      "[Iter 102 / 358] avg mse = 1.129450557181529, avg gradient norm = 48.2878838707419\n",
      "[Iter 119 / 358] avg mse = 1.3591939800500275, avg gradient norm = 88.09840954051299\n",
      "[Iter 136 / 358] avg mse = 1.0875282518228744, avg gradient norm = 48.7095625260297\n",
      "[Iter 153 / 358] avg mse = 0.9594265655031452, avg gradient norm = 44.05969485114603\n",
      "[Iter 170 / 358] avg mse = 0.8630860586873328, avg gradient norm = 30.31046182969037\n",
      "[Iter 187 / 358] avg mse = 0.6990983851593626, avg gradient norm = 27.60971809835995\n",
      "[Iter 204 / 358] avg mse = 0.7467553276688913, avg gradient norm = 40.243509124307074\n",
      "[Iter 221 / 358] avg mse = 0.7125168625150694, avg gradient norm = 26.696138381958008\n",
      "[Iter 238 / 358] avg mse = 0.6261176826997786, avg gradient norm = 26.257740020751953\n",
      "[Iter 255 / 358] avg mse = 0.6388663163073073, avg gradient norm = 22.547951305613797\n",
      "[Iter 272 / 358] avg mse = 0.6894904240457643, avg gradient norm = 28.30427775663488\n",
      "[Iter 289 / 358] avg mse = 0.5666439681362753, avg gradient norm = 23.00908557106467\n",
      "[Iter 306 / 358] avg mse = 0.6518481901331981, avg gradient norm = 19.319913190953873\n",
      "[Iter 323 / 358] avg mse = 0.5739929884615027, avg gradient norm = 23.181817840127383\n",
      "[Iter 340 / 358] avg mse = 0.5283260942122026, avg gradient norm = 18.315171185661764\n",
      "[Iter 357 / 358] avg mse = 0.5512983024804875, avg gradient norm = 19.45353883855483\n",
      "[Iter 358 / 358] avg mse = 0.6272301526064398, avg gradient norm = 12.875463485717773\n"
     ]
    }
   ],
   "source": [
    "net_sts = TextPredictionNet(backbone, backbone.units, 1)\n",
    "net_sts.hybridize()\n",
    "net_sts.initialize_with_pretrained_backbone(local_params_path, ctx_l)\n",
    "train(32, processed_sts_train, train_batchify, net_sts, ctx_l, 2, lr=5E-5, loss_function='mse')"
   ]
  },
  {
   "cell_type": "code",
   "execution_count": 22,
   "metadata": {},
   "outputs": [
    {
     "name": "stdout",
     "output_type": "stream",
     "text": [
      "MSE = 0.5490487312676965\n"
     ]
    }
   ],
   "source": [
    "pred = predict(64, processed_sts_dev, dev_batchify, net_sts, ctx_l, classification=False)\n",
    "mse = np.square((pred[:, 0] - sts_dev_df['score'])).mean()\n",
    "print('MSE =', mse)"
   ]
  },
  {
   "cell_type": "code",
   "execution_count": 23,
   "metadata": {},
   "outputs": [
    {
     "data": {
      "application/vnd.jupyter.widget-view+json": {
       "model_id": "870da4d7a2fb4f93b9d52ee740cad545",
       "version_major": 2,
       "version_minor": 0
      },
      "text/plain": [
       "HBox(children=(FloatProgress(value=0.0, max=3.0), HTML(value='')))"
      ]
     },
     "metadata": {},
     "output_type": "display_data"
    },
    {
     "name": "stdout",
     "output_type": "stream",
     "text": [
      "\n",
      "[4.0387745] [3.8400981] [1.1482639]\n"
     ]
    }
   ],
   "source": [
    "sentences = ['The child is riding a horse.',\n",
    "             'The young boy is riding a horse.',\n",
    "             'The young man is riding a horse.',\n",
    "             'The young man is riding a bicycle.']\n",
    "\n",
    "pred_dataset_df = pd.DataFrame([(sentences[0], sentences[1]),\n",
    "                                (sentences[0], sentences[2]),\n",
    "                                (sentences[0], sentences[3])],\n",
    "                               columns=['sentence1', 'sentence2'])\n",
    "pred_dataset_processed = preprocess_data(pred_dataset_df, ['sentence1', 'sentence2'],\n",
    "                                         'score', tokenizer, use_label=False)\n",
    "pred = predict(64, pred_dataset_processed, dev_batchify, net_sts, ctx_l, classification=False)\n",
    "print(pred[0], pred[1], pred[2])"
   ]
  }
 ],
 "metadata": {
  "kernelspec": {
   "display_name": "Python 3",
   "language": "python",
   "name": "python3"
  },
  "language_info": {
   "codemirror_mode": {
    "name": "ipython",
    "version": 3
   },
   "file_extension": ".py",
   "mimetype": "text/x-python",
   "name": "python",
   "nbconvert_exporter": "python",
   "pygments_lexer": "ipython3",
   "version": "3.6.9"
  }
 },
 "nbformat": 4,
 "nbformat_minor": 4
}
