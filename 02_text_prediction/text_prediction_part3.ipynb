{
 "cells": [
  {
   "cell_type": "markdown",
   "metadata": {},
   "source": [
    "# Part3: MobileBERT for Text Prediction"
   ]
  },
  {
   "cell_type": "code",
   "execution_count": null,
   "metadata": {},
   "outputs": [],
   "source": [
    "from gluonnlp.utils.parameter import count_parameters\n",
    "from gluonnlp.utils.preprocessing import get_trimmed_lengths\n",
    "from mxnet.gluon.data import batchify as bf\n",
    "from mxnet.gluon.data import DataLoader\n",
    "from mxnet.lr_scheduler import PolyScheduler"
   ]
  }
 ],
 "metadata": {
  "kernelspec": {
   "display_name": "Python 3",
   "language": "python",
   "name": "python3"
  },
  "language_info": {
   "codemirror_mode": {
    "name": "ipython",
    "version": 3
   },
   "file_extension": ".py",
   "mimetype": "text/x-python",
   "name": "python",
   "nbconvert_exporter": "python",
   "pygments_lexer": "ipython3",
   "version": "3.6.9"
  }
 },
 "nbformat": 4,
 "nbformat_minor": 4
}
